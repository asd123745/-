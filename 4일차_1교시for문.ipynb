{
  "nbformat": 4,
  "nbformat_minor": 0,
  "metadata": {
    "colab": {
      "name": "4일차_1교시for문.ipynb",
      "provenance": [],
      "authorship_tag": "ABX9TyPOcQ40zKpeAU6ICZIPBmQr",
      "include_colab_link": true
    },
    "kernelspec": {
      "name": "python3",
      "display_name": "Python 3"
    }
  },
  "cells": [
    {
      "cell_type": "markdown",
      "metadata": {
        "id": "view-in-github",
        "colab_type": "text"
      },
      "source": [
        "<a href=\"https://colab.research.google.com/github/asd123745/-/blob/master/4%EC%9D%BC%EC%B0%A8_1%EA%B5%90%EC%8B%9Cfor%EB%AC%B8.ipynb\" target=\"_parent\"><img src=\"https://colab.research.google.com/assets/colab-badge.svg\" alt=\"Open In Colab\"/></a>"
      ]
    },
    {
      "cell_type": "code",
      "metadata": {
        "id": "tgzSPTEw7_Z_",
        "colab_type": "code",
        "colab": {
          "base_uri": "https://localhost:8080/",
          "height": 35
        },
        "outputId": "9a83275f-0f75-424c-b84d-0614b7fed2fc"
      },
      "source": [
        ""
      ],
      "execution_count": 22,
      "outputs": [
        {
          "output_type": "stream",
          "text": [
            "2\n"
          ],
          "name": "stdout"
        }
      ]
    },
    {
      "cell_type": "markdown",
      "metadata": {
        "id": "OyK1OVW47yMS",
        "colab_type": "text"
      },
      "source": [
        "**학습목표**\n",
        "\n",
        "list,Range\n",
        "for문"
      ]
    },
    {
      "cell_type": "code",
      "metadata": {
        "id": "rYoIMi8_8AGH",
        "colab_type": "code",
        "colab": {
          "base_uri": "https://localhost:8080/",
          "height": 35
        },
        "outputId": "163ac458-8203-415f-fe04-049cfa28aa80"
      },
      "source": [
        "range(5)"
      ],
      "execution_count": 1,
      "outputs": [
        {
          "output_type": "execute_result",
          "data": {
            "text/plain": [
              "range(0, 5)"
            ]
          },
          "metadata": {
            "tags": []
          },
          "execution_count": 1
        }
      ]
    },
    {
      "cell_type": "code",
      "metadata": {
        "id": "Rtd88Qza8QEO",
        "colab_type": "code",
        "colab": {
          "base_uri": "https://localhost:8080/",
          "height": 35
        },
        "outputId": "20ba103f-458c-4873-d0e9-1072d93bcd25"
      },
      "source": [
        "a = list(range(10,0,-2))\n",
        "a"
      ],
      "execution_count": 6,
      "outputs": [
        {
          "output_type": "execute_result",
          "data": {
            "text/plain": [
              "[10, 8, 6, 4, 2]"
            ]
          },
          "metadata": {
            "tags": []
          },
          "execution_count": 6
        }
      ]
    },
    {
      "cell_type": "code",
      "metadata": {
        "id": "AUk10m7J9DVO",
        "colab_type": "code",
        "colab": {
          "base_uri": "https://localhost:8080/",
          "height": 35
        },
        "outputId": "bc2ce7bf-abe8-460b-ede8-883b0e947b51"
      },
      "source": [
        "type(a)"
      ],
      "execution_count": 7,
      "outputs": [
        {
          "output_type": "execute_result",
          "data": {
            "text/plain": [
              "list"
            ]
          },
          "metadata": {
            "tags": []
          },
          "execution_count": 7
        }
      ]
    },
    {
      "cell_type": "code",
      "metadata": {
        "id": "mWSyuE5U9EJf",
        "colab_type": "code",
        "colab": {
          "base_uri": "https://localhost:8080/",
          "height": 35
        },
        "outputId": "fdeae674-41f6-4d6c-d5ca-13f83a5a7713"
      },
      "source": [
        "for i in range(1,11):\n",
        "  print(i,end=' ')\n"
      ],
      "execution_count": 10,
      "outputs": [
        {
          "output_type": "stream",
          "text": [
            "1 2 3 4 5 6 7 8 9 10 "
          ],
          "name": "stdout"
        }
      ]
    },
    {
      "cell_type": "markdown",
      "metadata": {
        "id": "mctihp_Z9kl6",
        "colab_type": "text"
      },
      "source": [
        "for문을 이용해서 10부터 0까지"
      ]
    },
    {
      "cell_type": "code",
      "metadata": {
        "id": "6MjGJK7x9p2F",
        "colab_type": "code",
        "colab": {
          "base_uri": "https://localhost:8080/",
          "height": 35
        },
        "outputId": "424d046a-ba10-4271-fa13-c25f455be883"
      },
      "source": [
        "for i in range(10,-2,-2):\n",
        "  print(i,end=' ')"
      ],
      "execution_count": 16,
      "outputs": [
        {
          "output_type": "stream",
          "text": [
            "10 8 6 4 2 0 "
          ],
          "name": "stdout"
        }
      ]
    },
    {
      "cell_type": "markdown",
      "metadata": {
        "id": "ToqgySjI_Yjv",
        "colab_type": "text"
      },
      "source": [
        "for문을 Hello Python 1"
      ]
    },
    {
      "cell_type": "code",
      "metadata": {
        "id": "kUJTXqjc-fON",
        "colab_type": "code",
        "colab": {
          "base_uri": "https://localhost:8080/",
          "height": 197
        },
        "outputId": "6188d76d-5f30-45e1-95bc-d4d901353635"
      },
      "source": [
        "for i in range(1,11):\n",
        "  print('Hello Python',i)"
      ],
      "execution_count": 43,
      "outputs": [
        {
          "output_type": "stream",
          "text": [
            "Hello Python 1\n",
            "Hello Python 2\n",
            "Hello Python 3\n",
            "Hello Python 4\n",
            "Hello Python 5\n",
            "Hello Python 6\n",
            "Hello Python 7\n",
            "Hello Python 8\n",
            "Hello Python 9\n",
            "Hello Python 10\n"
          ],
          "name": "stdout"
        }
      ]
    },
    {
      "cell_type": "code",
      "metadata": {
        "id": "TAJxZ7eLAGnz",
        "colab_type": "code",
        "colab": {
          "base_uri": "https://localhost:8080/",
          "height": 89
        },
        "outputId": "59d6ed1c-6a1c-46b4-c4dd-b51a09914be3"
      },
      "source": [
        "g = int(input('몇번 반복? >>>'))\n",
        "for i in range(g):\n",
        "  print('좋아',i+1)"
      ],
      "execution_count": 45,
      "outputs": [
        {
          "output_type": "stream",
          "text": [
            "몇번 반복? >>>3\n",
            "좋아 1\n",
            "좋아 2\n",
            "좋아 3\n"
          ],
          "name": "stdout"
        }
      ]
    },
    {
      "cell_type": "code",
      "metadata": {
        "id": "JuC1yZTEAeeu",
        "colab_type": "code",
        "colab": {
          "base_uri": "https://localhost:8080/",
          "height": 71
        },
        "outputId": "aa3ed9fe-6b4d-40c4-a8e2-ec8ad65f6a1d"
      },
      "source": [
        "a = list(map(int, (input('숫자 입력>>> ').split())))\n",
        "sum=0\n",
        "avg=0.0\n",
        "for i in range(len(a)):\n",
        " sum+=a[i]\n",
        "print('합계 : ',sum)\n",
        "avg=sum/len(a)\n",
        "print('평균 : ',avg)\n"
      ],
      "execution_count": 70,
      "outputs": [
        {
          "output_type": "stream",
          "text": [
            "숫자 입력>>>  1 2 3 4 5\n",
            "합계 :  15\n",
            "평균 :  3.0\n"
          ],
          "name": "stdout"
        }
      ]
    }
  ]
}