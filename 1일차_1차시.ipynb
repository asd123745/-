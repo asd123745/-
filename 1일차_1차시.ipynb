{
  "nbformat": 4,
  "nbformat_minor": 0,
  "metadata": {
    "colab": {
      "name": "1일차_1차시.ipynb",
      "provenance": [],
      "authorship_tag": "ABX9TyM8qXJcdc5ym75C3xVticuk",
      "include_colab_link": true
    },
    "kernelspec": {
      "name": "python3",
      "display_name": "Python 3"
    }
  },
  "cells": [
    {
      "cell_type": "markdown",
      "metadata": {
        "id": "view-in-github",
        "colab_type": "text"
      },
      "source": [
        "<a href=\"https://colab.research.google.com/github/asd123745/-/blob/master/1%EC%9D%BC%EC%B0%A8_1%EC%B0%A8%EC%8B%9C.ipynb\" target=\"_parent\"><img src=\"https://colab.research.google.com/assets/colab-badge.svg\" alt=\"Open In Colab\"/></a>"
      ]
    },
    {
      "cell_type": "code",
      "metadata": {
        "id": "hKFdGd0m2Z6l",
        "colab_type": "code",
        "colab": {
          "base_uri": "https://localhost:8080/",
          "height": 35
        },
        "outputId": "378fd998-e1d0-47ea-899b-8a37195e1357"
      },
      "source": [
        "1"
      ],
      "execution_count": 1,
      "outputs": [
        {
          "output_type": "execute_result",
          "data": {
            "text/plain": [
              "1"
            ]
          },
          "metadata": {
            "tags": []
          },
          "execution_count": 1
        }
      ]
    },
    {
      "cell_type": "code",
      "metadata": {
        "id": "M9lJFJty3tLd",
        "colab_type": "code",
        "colab": {
          "base_uri": "https://localhost:8080/",
          "height": 35
        },
        "outputId": "5eccc5ac-ba1a-435e-9aa9-90ce11c7b327"
      },
      "source": [
        "print('인천정보산업고')"
      ],
      "execution_count": 3,
      "outputs": [
        {
          "output_type": "stream",
          "text": [
            "인천정보산업고\n"
          ],
          "name": "stdout"
        }
      ]
    },
    {
      "cell_type": "code",
      "metadata": {
        "id": "spSo93t44Gnx",
        "colab_type": "code",
        "colab": {
          "base_uri": "https://localhost:8080/",
          "height": 35
        },
        "outputId": "01ea9c89-9d86-4df3-dea1-3dc56c617866"
      },
      "source": [
        "a=1\n",
        "b=2\n",
        "print(a,b)"
      ],
      "execution_count": 7,
      "outputs": [
        {
          "output_type": "stream",
          "text": [
            "1 2\n"
          ],
          "name": "stdout"
        }
      ]
    },
    {
      "cell_type": "code",
      "metadata": {
        "id": "z58jjXyR4aLe",
        "colab_type": "code",
        "colab": {
          "base_uri": "https://localhost:8080/",
          "height": 35
        },
        "outputId": "0787e0b3-6f76-4f9f-e84c-d1b322a9c5a6"
      },
      "source": [
        "print('재홍 좋아 '*3)"
      ],
      "execution_count": 14,
      "outputs": [
        {
          "output_type": "stream",
          "text": [
            "재홍 좋아 재홍 좋아 재홍 좋아 \n"
          ],
          "name": "stdout"
        }
      ]
    },
    {
      "cell_type": "markdown",
      "metadata": {
        "id": "YOcDYyHL5RxE",
        "colab_type": "text"
      },
      "source": [
        ""
      ]
    },
    {
      "cell_type": "code",
      "metadata": {
        "id": "Ga3Wy6qZ9MNJ",
        "colab_type": "code",
        "colab": {}
      },
      "source": [
        ""
      ],
      "execution_count": 0,
      "outputs": []
    },
    {
      "cell_type": "code",
      "metadata": {
        "id": "wsC7vR8S4fWF",
        "colab_type": "code",
        "colab": {
          "base_uri": "https://localhost:8080/",
          "height": 143
        },
        "outputId": "c9c9f85e-c8b4-4d36-cfe5-46efa671f150"
      },
      "source": [
        "a=3\n",
        "b=2\n",
        "print('a + b = ',a+b)\n",
        "print('a - b = ',a-b)\n",
        "print('a * b = ',a*b)\n",
        "print('a ** b = ',a**b)\n",
        "print('a % b = ',a%b)\n",
        "print('a / b = ',a/b)\n",
        "print('a // b = ',a//b)"
      ],
      "execution_count": 20,
      "outputs": [
        {
          "output_type": "stream",
          "text": [
            "a + b =  5\n",
            "a - b =  1\n",
            "a * b =  6\n",
            "a ** b =  9\n",
            "a % b =  1\n",
            "a / b =  1.5\n",
            "a // b =  1\n"
          ],
          "name": "stdout"
        }
      ]
    }
  ]
}