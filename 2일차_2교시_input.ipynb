{
  "nbformat": 4,
  "nbformat_minor": 0,
  "metadata": {
    "colab": {
      "name": "2일차_2교시_input.ipynb",
      "provenance": [],
      "collapsed_sections": [],
      "authorship_tag": "ABX9TyOZRHE6+0f4QKlvwwAgzSEy",
      "include_colab_link": true
    },
    "kernelspec": {
      "name": "python3",
      "display_name": "Python 3"
    }
  },
  "cells": [
    {
      "cell_type": "markdown",
      "metadata": {
        "id": "view-in-github",
        "colab_type": "text"
      },
      "source": [
        "<a href=\"https://colab.research.google.com/github/asd123745/-/blob/master/2%EC%9D%BC%EC%B0%A8_2%EA%B5%90%EC%8B%9C_input.ipynb\" target=\"_parent\"><img src=\"https://colab.research.google.com/assets/colab-badge.svg\" alt=\"Open In Colab\"/></a>"
      ]
    },
    {
      "cell_type": "code",
      "metadata": {
        "id": "C_uzjrkp-vZQ",
        "colab_type": "code",
        "outputId": "655e3bd0-59bd-476e-a31e-4788336a6ce6",
        "colab": {
          "base_uri": "https://localhost:8080/",
          "height": 53
        }
      },
      "source": [
        "a = input('입력')\n",
        "a"
      ],
      "execution_count": 0,
      "outputs": [
        {
          "output_type": "stream",
          "text": [
            "입력다딱\n"
          ],
          "name": "stdout"
        },
        {
          "output_type": "execute_result",
          "data": {
            "text/plain": [
              "'다딱'"
            ]
          },
          "metadata": {
            "tags": []
          },
          "execution_count": 7
        }
      ]
    },
    {
      "cell_type": "code",
      "metadata": {
        "id": "P6u29DxzEhQp",
        "colab_type": "code",
        "outputId": "33452368-4192-4479-ddc8-8b75026ebc04",
        "colab": {
          "base_uri": "https://localhost:8080/",
          "height": 53
        }
      },
      "source": [
        "b = input('당신의 나이 >>>')\n",
        "b"
      ],
      "execution_count": 0,
      "outputs": [
        {
          "output_type": "stream",
          "text": [
            "당신의 나이 >>>25\n"
          ],
          "name": "stdout"
        },
        {
          "output_type": "execute_result",
          "data": {
            "text/plain": [
              "'25'"
            ]
          },
          "metadata": {
            "tags": []
          },
          "execution_count": 9
        }
      ]
    },
    {
      "cell_type": "code",
      "metadata": {
        "id": "OwelHS0VExh2",
        "colab_type": "code",
        "outputId": "43ce0a37-4503-4871-ca4e-82e234ae21b4",
        "colab": {
          "base_uri": "https://localhost:8080/",
          "height": 35
        }
      },
      "source": [
        "type(b)"
      ],
      "execution_count": 0,
      "outputs": [
        {
          "output_type": "execute_result",
          "data": {
            "text/plain": [
              "str"
            ]
          },
          "metadata": {
            "tags": []
          },
          "execution_count": 11
        }
      ]
    },
    {
      "cell_type": "code",
      "metadata": {
        "id": "9DNUJGFBE1ws",
        "colab_type": "code",
        "outputId": "c6bb8fae-4d4b-40fe-bddc-ac043b635aaa",
        "colab": {
          "base_uri": "https://localhost:8080/",
          "height": 35
        }
      },
      "source": [
        "c= int(b)\n",
        "c, type(c)"
      ],
      "execution_count": 0,
      "outputs": [
        {
          "output_type": "execute_result",
          "data": {
            "text/plain": [
              "(25, int)"
            ]
          },
          "metadata": {
            "tags": []
          },
          "execution_count": 12
        }
      ]
    },
    {
      "cell_type": "code",
      "metadata": {
        "id": "JZH23jq7E5zs",
        "colab_type": "code",
        "outputId": "82db1d1f-9ccb-4c40-b401-ba2510d33f0b",
        "colab": {
          "base_uri": "https://localhost:8080/",
          "height": 71
        }
      },
      "source": [
        "year = int(input('출생년도를 입력하세요 >>>'))\n",
        "print('당신은',year,'년에 태어났군요')\n",
        "age= 2020-year+1\n",
        "print('당신의나이는',age,'세 이군요')"
      ],
      "execution_count": 0,
      "outputs": [
        {
          "output_type": "stream",
          "text": [
            "출생년도를 입력하세요 >>>2002\n",
            "당신은 2002 년에 태어났군요\n",
            "당신의나이는 19 세 이군요\n"
          ],
          "name": "stdout"
        }
      ]
    },
    {
      "cell_type": "code",
      "metadata": {
        "id": "xp66M2bYFm3b",
        "colab_type": "code",
        "colab": {}
      },
      "source": [
        ""
      ],
      "execution_count": 0,
      "outputs": []
    },
    {
      "cell_type": "markdown",
      "metadata": {
        "id": "zo6c4AWkG1pk",
        "colab_type": "text"
      },
      "source": [
        "**Format**\n",
        "서식지정자\n"
      ]
    },
    {
      "cell_type": "code",
      "metadata": {
        "id": "Vws87zpgFibD",
        "colab_type": "code",
        "outputId": "9ac59477-9e53-4679-c137-949a0508c401",
        "colab": {
          "base_uri": "https://localhost:8080/",
          "height": 35
        }
      },
      "source": [
        "s= 'a is {}'\n",
        "s.format('apple')"
      ],
      "execution_count": 0,
      "outputs": [
        {
          "output_type": "execute_result",
          "data": {
            "text/plain": [
              "'a is apple'"
            ]
          },
          "metadata": {
            "tags": []
          },
          "execution_count": 23
        }
      ]
    },
    {
      "cell_type": "code",
      "metadata": {
        "id": "hLuMZOHyHA_y",
        "colab_type": "code",
        "outputId": "b5cb15ac-0707-4728-ec4b-e4f499b7639e",
        "colab": {
          "base_uri": "https://localhost:8080/",
          "height": 53
        }
      },
      "source": [
        "a= '%s %d 개 가격은 %.2f $다'\n",
        "b=a % ('햄버거',2,4.0*2)\n",
        "print(a)\n",
        "print(b)"
      ],
      "execution_count": 0,
      "outputs": [
        {
          "output_type": "stream",
          "text": [
            "%s %d 개 가격은 %.2f $다\n",
            "햄버거 2 개 가격은 8.00 $다\n"
          ],
          "name": "stdout"
        }
      ]
    },
    {
      "cell_type": "code",
      "metadata": {
        "id": "2f2xzRZZIEZ7",
        "colab_type": "code",
        "outputId": "fd0e4e2b-2300-4541-874b-2a8f8c9274d5",
        "colab": {
          "base_uri": "https://localhost:8080/",
          "height": 35
        }
      },
      "source": [
        "a= '%s %d마리 가격은 %d원이다'\n",
        "b=a % ('치킨',2,40000)\n",
        "print(b)"
      ],
      "execution_count": 0,
      "outputs": [
        {
          "output_type": "stream",
          "text": [
            "치킨 2마리 가격은 40000원이다\n"
          ],
          "name": "stdout"
        }
      ]
    }
  ]
}