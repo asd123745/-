{
  "nbformat": 4,
  "nbformat_minor": 0,
  "metadata": {
    "colab": {
      "name": "4일차_2,3교시_이중FOR문.ipynb",
      "provenance": [],
      "authorship_tag": "ABX9TyM+TENAcbMldMD6TckpKQT3",
      "include_colab_link": true
    },
    "kernelspec": {
      "name": "python3",
      "display_name": "Python 3"
    }
  },
  "cells": [
    {
      "cell_type": "markdown",
      "metadata": {
        "id": "view-in-github",
        "colab_type": "text"
      },
      "source": [
        "<a href=\"https://colab.research.google.com/github/asd123745/-/blob/master/4%EC%9D%BC%EC%B0%A8_2%2C3%EA%B5%90%EC%8B%9C_%EC%9D%B4%EC%A4%91FOR%EB%AC%B8.ipynb\" target=\"_parent\"><img src=\"https://colab.research.google.com/assets/colab-badge.svg\" alt=\"Open In Colab\"/></a>"
      ]
    },
    {
      "cell_type": "markdown",
      "metadata": {
        "id": "z2lXSIP9Ilm0",
        "colab_type": "text"
      },
      "source": [
        "**아중FOR문**\n"
      ]
    },
    {
      "cell_type": "code",
      "metadata": {
        "id": "t4R-uDRlIr1X",
        "colab_type": "code",
        "colab": {
          "base_uri": "https://localhost:8080/",
          "height": 197
        },
        "outputId": "529f0c45-f4b4-4222-8216-0d5944920ed2"
      },
      "source": [
        "for i in range(5,0,-1):\n",
        "  for j in range(5,0,-1):\n",
        "   print(j,end =' ')\n",
        "  print('\\n')"
      ],
      "execution_count": 17,
      "outputs": [
        {
          "output_type": "stream",
          "text": [
            "5 4 3 2 1 \n",
            "\n",
            "5 4 3 2 1 \n",
            "\n",
            "5 4 3 2 1 \n",
            "\n",
            "5 4 3 2 1 \n",
            "\n",
            "5 4 3 2 1 \n",
            "\n"
          ],
          "name": "stdout"
        }
      ]
    },
    {
      "cell_type": "code",
      "metadata": {
        "id": "1AvhzdMzJvwz",
        "colab_type": "code",
        "colab": {
          "base_uri": "https://localhost:8080/",
          "height": 197
        },
        "outputId": "21b80de3-466c-4594-d8bd-87025de58879"
      },
      "source": [
        "for i in range(5,0,-1):\n",
        "  for j in range(i):\n",
        "   print('*',end =' ')\n",
        "  print('\\n')"
      ],
      "execution_count": 94,
      "outputs": [
        {
          "output_type": "stream",
          "text": [
            "* * * * * \n",
            "\n",
            "* * * * \n",
            "\n",
            "* * * \n",
            "\n",
            "* * \n",
            "\n",
            "* \n",
            "\n"
          ],
          "name": "stdout"
        }
      ]
    },
    {
      "cell_type": "code",
      "metadata": {
        "id": "6nC2TetVKQor",
        "colab_type": "code",
        "colab": {
          "base_uri": "https://localhost:8080/",
          "height": 325
        },
        "outputId": "940247b9-8b3c-4353-aae3-ff0ca6417aa1"
      },
      "source": [
        "for i in range(2,10):\n",
        "  for j in range(2,10):\n",
        "   print(j,'*',i,'=',i*j , end = ' \\t')\n",
        "  print('\\n')"
      ],
      "execution_count": 50,
      "outputs": [
        {
          "output_type": "stream",
          "text": [
            "2 * 2 = 4 \t3 * 2 = 6 \t4 * 2 = 8 \t5 * 2 = 10 \t6 * 2 = 12 \t7 * 2 = 14 \t8 * 2 = 16 \t9 * 2 = 18 \t\n",
            "\n",
            "2 * 3 = 6 \t3 * 3 = 9 \t4 * 3 = 12 \t5 * 3 = 15 \t6 * 3 = 18 \t7 * 3 = 21 \t8 * 3 = 24 \t9 * 3 = 27 \t\n",
            "\n",
            "2 * 4 = 8 \t3 * 4 = 12 \t4 * 4 = 16 \t5 * 4 = 20 \t6 * 4 = 24 \t7 * 4 = 28 \t8 * 4 = 32 \t9 * 4 = 36 \t\n",
            "\n",
            "2 * 5 = 10 \t3 * 5 = 15 \t4 * 5 = 20 \t5 * 5 = 25 \t6 * 5 = 30 \t7 * 5 = 35 \t8 * 5 = 40 \t9 * 5 = 45 \t\n",
            "\n",
            "2 * 6 = 12 \t3 * 6 = 18 \t4 * 6 = 24 \t5 * 6 = 30 \t6 * 6 = 36 \t7 * 6 = 42 \t8 * 6 = 48 \t9 * 6 = 54 \t\n",
            "\n",
            "2 * 7 = 14 \t3 * 7 = 21 \t4 * 7 = 28 \t5 * 7 = 35 \t6 * 7 = 42 \t7 * 7 = 49 \t8 * 7 = 56 \t9 * 7 = 63 \t\n",
            "\n",
            "2 * 8 = 16 \t3 * 8 = 24 \t4 * 8 = 32 \t5 * 8 = 40 \t6 * 8 = 48 \t7 * 8 = 56 \t8 * 8 = 64 \t9 * 8 = 72 \t\n",
            "\n",
            "2 * 9 = 18 \t3 * 9 = 27 \t4 * 9 = 36 \t5 * 9 = 45 \t6 * 9 = 54 \t7 * 9 = 63 \t8 * 9 = 72 \t9 * 9 = 81 \t\n",
            "\n"
          ],
          "name": "stdout"
        }
      ]
    },
    {
      "cell_type": "code",
      "metadata": {
        "id": "pwwIZVJZLLxn",
        "colab_type": "code",
        "colab": {
          "base_uri": "https://localhost:8080/",
          "height": 35
        },
        "outputId": "1679b2dc-fd6d-4026-e5c0-01dab47ae2e7"
      },
      "source": [
        "for i in ['치킨','햄버거','탕수육','떡볶이']:\n",
        "  print(i,end='/')"
      ],
      "execution_count": 97,
      "outputs": [
        {
          "output_type": "stream",
          "text": [
            "치킨/햄버거/탕수육/떡볶이/"
          ],
          "name": "stdout"
        }
      ]
    },
    {
      "cell_type": "code",
      "metadata": {
        "id": "HjA6sNcpPA2q",
        "colab_type": "code",
        "colab": {
          "base_uri": "https://localhost:8080/",
          "height": 35
        },
        "outputId": "55501310-0e09-4fe9-ac2e-f623139dbfa2"
      },
      "source": [
        "a=list(range(1,11))\n",
        "a"
      ],
      "execution_count": 109,
      "outputs": [
        {
          "output_type": "execute_result",
          "data": {
            "text/plain": [
              "[1, 2, 3, 4, 5, 6, 7, 8, 9, 10]"
            ]
          },
          "metadata": {
            "tags": []
          },
          "execution_count": 109
        }
      ]
    },
    {
      "cell_type": "code",
      "metadata": {
        "id": "Y5O6a5uSPOQ5",
        "colab_type": "code",
        "colab": {
          "base_uri": "https://localhost:8080/",
          "height": 35
        },
        "outputId": "f84b178e-d5ce-4a82-8a71-27597304a260"
      },
      "source": [
        "sum(a)/len(a)"
      ],
      "execution_count": 106,
      "outputs": [
        {
          "output_type": "execute_result",
          "data": {
            "text/plain": [
              "16.0"
            ]
          },
          "metadata": {
            "tags": []
          },
          "execution_count": 106
        }
      ]
    },
    {
      "cell_type": "code",
      "metadata": {
        "id": "l4Osd7XxPYjB",
        "colab_type": "code",
        "colab": {
          "base_uri": "https://localhost:8080/",
          "height": 35
        },
        "outputId": "aba038c9-34e2-469c-ef7a-de38fd2a9de8"
      },
      "source": [
        "max(a)"
      ],
      "execution_count": 107,
      "outputs": [
        {
          "output_type": "execute_result",
          "data": {
            "text/plain": [
              "29"
            ]
          },
          "metadata": {
            "tags": []
          },
          "execution_count": 107
        }
      ]
    },
    {
      "cell_type": "code",
      "metadata": {
        "id": "jo_brxoZPjAq",
        "colab_type": "code",
        "colab": {
          "base_uri": "https://localhost:8080/",
          "height": 35
        },
        "outputId": "f509cd87-2331-4a94-91ef-f97718907f24"
      },
      "source": [
        "min(a)"
      ],
      "execution_count": 108,
      "outputs": [
        {
          "output_type": "execute_result",
          "data": {
            "text/plain": [
              "3"
            ]
          },
          "metadata": {
            "tags": []
          },
          "execution_count": 108
        }
      ]
    }
  ]
}