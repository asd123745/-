{
  "nbformat": 4,
  "nbformat_minor": 0,
  "metadata": {
    "colab": {
      "name": "5일차 _1교시while.ipynb",
      "provenance": [],
      "collapsed_sections": [],
      "authorship_tag": "ABX9TyOdmTBYiPxQMoFmZ143QFFB",
      "include_colab_link": true
    },
    "kernelspec": {
      "name": "python3",
      "display_name": "Python 3"
    }
  },
  "cells": [
    {
      "cell_type": "markdown",
      "metadata": {
        "id": "view-in-github",
        "colab_type": "text"
      },
      "source": [
        "<a href=\"https://colab.research.google.com/github/asd123745/-/blob/master/5%EC%9D%BC%EC%B0%A8__1%EA%B5%90%EC%8B%9Cwhile.ipynb\" target=\"_parent\"><img src=\"https://colab.research.google.com/assets/colab-badge.svg\" alt=\"Open In Colab\"/></a>"
      ]
    },
    {
      "cell_type": "code",
      "metadata": {
        "id": "P0_p0F1w4Tf8",
        "colab_type": "code",
        "colab": {
          "base_uri": "https://localhost:8080/",
          "height": 35
        },
        "outputId": "084ee1c9-43b5-4b4c-b482-f424de624b0a"
      },
      "source": [
        "for i in range(1,11,2):\n",
        "  print(i,end=\" \")"
      ],
      "execution_count": 29,
      "outputs": [
        {
          "output_type": "stream",
          "text": [
            "1 3 5 7 9 "
          ],
          "name": "stdout"
        }
      ]
    },
    {
      "cell_type": "code",
      "metadata": {
        "id": "mTd49KP35vKk",
        "colab_type": "code",
        "colab": {
          "base_uri": "https://localhost:8080/",
          "height": 35
        },
        "outputId": "84d5ea6b-733c-4af5-a5c8-7804f1734f2e"
      },
      "source": [
        "while(i<11):\n",
        "  print(i,end=\" \")\n",
        "  i+=1"
      ],
      "execution_count": 30,
      "outputs": [
        {
          "output_type": "stream",
          "text": [
            "9 10 "
          ],
          "name": "stdout"
        }
      ]
    },
    {
      "cell_type": "code",
      "metadata": {
        "id": "S8_jRykb6a_j",
        "colab_type": "code",
        "colab": {
          "base_uri": "https://localhost:8080/",
          "height": 35
        },
        "outputId": "d502c708-ee23-4ee8-e315-b96c11bc0e13"
      },
      "source": [
        "num=list(range(10,110,10))\n",
        "num"
      ],
      "execution_count": 23,
      "outputs": [
        {
          "output_type": "execute_result",
          "data": {
            "text/plain": [
              "[10, 20, 30, 40, 50, 60, 70, 80, 90, 100]"
            ]
          },
          "metadata": {
            "tags": []
          },
          "execution_count": 23
        }
      ]
    },
    {
      "cell_type": "code",
      "metadata": {
        "id": "4HGeszyI65n8",
        "colab_type": "code",
        "colab": {
          "base_uri": "https://localhost:8080/",
          "height": 35
        },
        "outputId": "89d3681e-f47e-4ff7-ce39-677875f95469"
      },
      "source": [
        "a=0\n",
        "while(a < len(num)):\n",
        "  print(num[a],end = \" \")\n",
        "  a+=1"
      ],
      "execution_count": 31,
      "outputs": [
        {
          "output_type": "stream",
          "text": [
            "10 20 30 40 50 60 70 80 90 100 "
          ],
          "name": "stdout"
        }
      ]
    },
    {
      "cell_type": "code",
      "metadata": {
        "id": "mENu_dIS7eFq",
        "colab_type": "code",
        "colab": {
          "base_uri": "https://localhost:8080/",
          "height": 35
        },
        "outputId": "e193e646-9a54-4cdc-ea0f-2ec30b51d701"
      },
      "source": [
        "bp =['제니','지수','리사','로제']\n",
        "i=0\n",
        "while(i<len(bp)):\n",
        "  print(bp[i], end=\" \")\n",
        "  i+=1"
      ],
      "execution_count": 36,
      "outputs": [
        {
          "output_type": "stream",
          "text": [
            "제니 지수 리사 로제 "
          ],
          "name": "stdout"
        }
      ]
    },
    {
      "cell_type": "code",
      "metadata": {
        "id": "z1Eu1pQF7_Ob",
        "colab_type": "code",
        "colab": {
          "base_uri": "https://localhost:8080/",
          "height": 35
        },
        "outputId": "e6ceea95-9a31-4f07-9f76-19d1de8a3cfe"
      },
      "source": [
        "bp.sort()\n",
        "bp"
      ],
      "execution_count": 41,
      "outputs": [
        {
          "output_type": "execute_result",
          "data": {
            "text/plain": [
              "['로제', '리사', '제니', '지수']"
            ]
          },
          "metadata": {
            "tags": []
          },
          "execution_count": 41
        }
      ]
    },
    {
      "cell_type": "code",
      "metadata": {
        "id": "sIqEOICm8eRA",
        "colab_type": "code",
        "colab": {
          "base_uri": "https://localhost:8080/",
          "height": 35
        },
        "outputId": "0cc5ae91-51a1-4519-beef-7294e3ad07a8"
      },
      "source": [
        "bp.reverse()\n",
        "bp"
      ],
      "execution_count": 43,
      "outputs": [
        {
          "output_type": "execute_result",
          "data": {
            "text/plain": [
              "['로제', '리사', '제니', '지수']"
            ]
          },
          "metadata": {
            "tags": []
          },
          "execution_count": 43
        }
      ]
    },
    {
      "cell_type": "code",
      "metadata": {
        "id": "lhP77K2n8lRB",
        "colab_type": "code",
        "colab": {
          "base_uri": "https://localhost:8080/",
          "height": 35
        },
        "outputId": "9638117f-1cd7-4dee-a52c-fc2a0e9cb162"
      },
      "source": [
        "import random as r\n",
        "r.shuffle(bp)\n",
        "bp"
      ],
      "execution_count": 53,
      "outputs": [
        {
          "output_type": "execute_result",
          "data": {
            "text/plain": [
              "['지수', '리사', '제니', '로제']"
            ]
          },
          "metadata": {
            "tags": []
          },
          "execution_count": 53
        }
      ]
    },
    {
      "cell_type": "code",
      "metadata": {
        "id": "AvfPrbRf82h5",
        "colab_type": "code",
        "colab": {
          "base_uri": "https://localhost:8080/",
          "height": 53
        },
        "outputId": "49434e21-327f-42a3-f281-8047bb31a8a2"
      },
      "source": [
        "num=range(10,110,10)\n",
        "i=0\n",
        "sum=0\n",
        "while(i<len(num)):\n",
        "  if num[i]==50:\n",
        "    i+=1\n",
        "    continue\n",
        "  if num[i] > 80:\n",
        "    break\n",
        "  print(num[i],end =\" \")\n",
        "  sum+=int(num[i])\n",
        "  i+=1\n",
        "avr=sum/10\n",
        "print(\"합계 \",sum)\n",
        "print(\"평균 \",avr)\n",
        " "
      ],
      "execution_count": 86,
      "outputs": [
        {
          "output_type": "stream",
          "text": [
            "10 20 30 40 60 70 80 합계  310\n",
            "평균  31.0\n"
          ],
          "name": "stdout"
        }
      ]
    },
    {
      "cell_type": "code",
      "metadata": {
        "id": "0u5PokoVHkNg",
        "colab_type": "code",
        "colab": {}
      },
      "source": [
        "input"
      ],
      "execution_count": 0,
      "outputs": []
    },
    {
      "cell_type": "code",
      "metadata": {
        "id": "Y6i9QaMg-dbJ",
        "colab_type": "code",
        "colab": {}
      },
      "source": [
        ""
      ],
      "execution_count": 0,
      "outputs": []
    }
  ]
}